import numpy as np

# Create matrices
m1 = np.array([[1, 2, 3], [4, 5, 6], [7, 8, 9]])
m2 = np.array([[9, 8, 7], [6, 5, 4], [3, 2, 1]])

# Find the transpose of a matrix
m3 = np.transpose(m1)
print(m3)

# Add two matrices
m4 = m1 + m2
print(m4)

# Subtract two matrices
m5 = m1 - m2
print(m5)

# Multiply two matrices
m6 = np.dot(m1, m2)
print(m6)
