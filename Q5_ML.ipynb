{
  "nbformat": 4,
  "nbformat_minor": 0,
  "metadata": {
    "colab": {
      "provenance": []
    },
    "kernelspec": {
      "name": "python3",
      "display_name": "Python 3"
    },
    "language_info": {
      "name": "python"
    }
  },
  "cells": [
    {
      "cell_type": "markdown",
      "source": [
        "Use command to compute the size of a matrix, size/length of a particular row/column, load\n",
        "data from a text file, store matrix data to a text file, finding out variables and their features in the\n",
        "current scope"
      ],
      "metadata": {
        "id": "DfSG4mFRWRAp"
      }
    },
    {
      "cell_type": "code",
      "execution_count": null,
      "metadata": {
        "id": "5ggW_yk6WGcJ"
      },
      "outputs": [],
      "source": [
        "import numpy as np"
      ]
    },
    {
      "cell_type": "code",
      "source": [
        "matrix = np.array([[2,3,4,5],[4,5,6,9],[6,7,8,10]])"
      ],
      "metadata": {
        "id": "Oji_onYlWZPu"
      },
      "execution_count": null,
      "outputs": []
    },
    {
      "cell_type": "code",
      "source": [
        "#checking size of matrix\n",
        "np.shape(matrix)"
      ],
      "metadata": {
        "colab": {
          "base_uri": "https://localhost:8080/"
        },
        "id": "ZmlkqTt4W6l4",
        "outputId": "118c748f-0fee-4c53-e6b6-623d51d17eeb"
      },
      "execution_count": null,
      "outputs": [
        {
          "output_type": "execute_result",
          "data": {
            "text/plain": [
              "(3, 4)"
            ]
          },
          "metadata": {},
          "execution_count": 11
        }
      ]
    },
    {
      "cell_type": "code",
      "source": [
        "#checking size of row\n",
        "size = np.shape(matrix)\n",
        "print(size[0])"
      ],
      "metadata": {
        "colab": {
          "base_uri": "https://localhost:8080/"
        },
        "id": "9unzxm1cXVPL",
        "outputId": "b1d12f16-c9bb-487d-ce71-1721ce4277c1"
      },
      "execution_count": null,
      "outputs": [
        {
          "output_type": "stream",
          "name": "stdout",
          "text": [
            "3\n"
          ]
        }
      ]
    },
    {
      "cell_type": "code",
      "source": [
        "#checking size of column\n",
        "print(size[1])"
      ],
      "metadata": {
        "colab": {
          "base_uri": "https://localhost:8080/"
        },
        "id": "EGSQa0zwXloa",
        "outputId": "a501123d-ddd5-4c55-dea7-2505dc8e99c7"
      },
      "execution_count": null,
      "outputs": [
        {
          "output_type": "stream",
          "name": "stdout",
          "text": [
            "4\n"
          ]
        }
      ]
    },
    {
      "cell_type": "code",
      "source": [
        "#loading data from txt\n",
        "txt_data = np.loadtxt('hello.txt',dtype='int')"
      ],
      "metadata": {
        "id": "bmLgwoutXuX7"
      },
      "execution_count": null,
      "outputs": []
    },
    {
      "cell_type": "code",
      "source": [
        "txt_data"
      ],
      "metadata": {
        "colab": {
          "base_uri": "https://localhost:8080/"
        },
        "id": "ERE-t0euY6hk",
        "outputId": "a8328143-fec7-42e9-d06e-1713443968ea"
      },
      "execution_count": null,
      "outputs": [
        {
          "output_type": "execute_result",
          "data": {
            "text/plain": [
              "array([[ 1,  2,  3,  4,  5],\n",
              "       [ 6,  7,  8,  9, 10],\n",
              "       [11, 12, 13, 14, 15]])"
            ]
          },
          "metadata": {},
          "execution_count": 19
        }
      ]
    },
    {
      "cell_type": "code",
      "source": [
        "#loading data from matrix to txt\n",
        "np.savetxt('saved.txt',matrix)"
      ],
      "metadata": {
        "id": "N3d9frhmY7Z2"
      },
      "execution_count": null,
      "outputs": []
    }
  ]
}