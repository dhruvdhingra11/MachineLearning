{
  "nbformat": 4,
  "nbformat_minor": 0,
  "metadata": {
    "colab": {
      "provenance": []
    },
    "kernelspec": {
      "name": "python3",
      "display_name": "Python 3"
    },
    "language_info": {
      "name": "python"
    }
  },
  "cells": [
    {
      "cell_type": "markdown",
      "source": [
        "Perform other matrix operations like converting matrix data to absolute values, taking the\n",
        "negative of matrix values, additing/removing rows/columns from a matrix, finding the maximum\n",
        "or minimum values in a matrix or in a row/column, and finding the sum of some/all\n",
        "elements in a matrix"
      ],
      "metadata": {
        "id": "hFAW_A5jeqJr"
      }
    },
    {
      "cell_type": "code",
      "execution_count": null,
      "metadata": {
        "id": "fRic1M5weM5f"
      },
      "outputs": [],
      "source": [
        "import numpy as np"
      ]
    },
    {
      "cell_type": "code",
      "source": [
        "matrix = np.array([1,2,3,4,5,-6,7,8,-9,10,11,-12]).reshape(3,4)"
      ],
      "metadata": {
        "id": "HBm34HQNe6nU"
      },
      "execution_count": null,
      "outputs": []
    },
    {
      "cell_type": "code",
      "source": [
        "matrix"
      ],
      "metadata": {
        "colab": {
          "base_uri": "https://localhost:8080/"
        },
        "id": "dnEyvx_GfCZy",
        "outputId": "f18cbd36-52e3-4291-cdb4-35e66fbfc714"
      },
      "execution_count": null,
      "outputs": [
        {
          "output_type": "execute_result",
          "data": {
            "text/plain": [
              "array([[  1,   2,   3,   4],\n",
              "       [  5,  -6,   7,   8],\n",
              "       [ -9,  10,  11, -12]])"
            ]
          },
          "metadata": {},
          "execution_count": 41
        }
      ]
    },
    {
      "cell_type": "code",
      "source": [
        "#calculating absolute values\n",
        "abss = np.absolute(matrix)"
      ],
      "metadata": {
        "id": "nhFgx7QUfUtG"
      },
      "execution_count": null,
      "outputs": []
    },
    {
      "cell_type": "code",
      "source": [
        "abss"
      ],
      "metadata": {
        "colab": {
          "base_uri": "https://localhost:8080/"
        },
        "id": "rZFZg5-Lfm52",
        "outputId": "01aac220-3b24-41c0-ec0d-8feb2dc7c7ff"
      },
      "execution_count": null,
      "outputs": [
        {
          "output_type": "execute_result",
          "data": {
            "text/plain": [
              "array([[ 1,  2,  3,  4],\n",
              "       [ 5,  6,  7,  8],\n",
              "       [ 9, 10, 11, 12]])"
            ]
          },
          "metadata": {},
          "execution_count": 15
        }
      ]
    },
    {
      "cell_type": "code",
      "source": [
        "#calculating negative values \n",
        "neg = np.negative(matrix)"
      ],
      "metadata": {
        "id": "M6fr8WYpfnJg"
      },
      "execution_count": null,
      "outputs": []
    },
    {
      "cell_type": "code",
      "source": [
        "neg"
      ],
      "metadata": {
        "colab": {
          "base_uri": "https://localhost:8080/"
        },
        "id": "C6uSK30gfDkm",
        "outputId": "d68d0b77-f856-47fc-9eb8-21c00e49b3f6"
      },
      "execution_count": null,
      "outputs": [
        {
          "output_type": "execute_result",
          "data": {
            "text/plain": [
              "array([[ -1,  -2,  -3,  -4],\n",
              "       [ -5,   6,  -7,  -8],\n",
              "       [  9, -10, -11,  12]])"
            ]
          },
          "metadata": {},
          "execution_count": 18
        }
      ]
    },
    {
      "cell_type": "code",
      "source": [],
      "metadata": {
        "id": "ESXKdee-kBNt"
      },
      "execution_count": null,
      "outputs": []
    },
    {
      "cell_type": "code",
      "source": [
        "#finding min and max in row and column\n",
        "min = np.min(matrix,axis=1)"
      ],
      "metadata": {
        "id": "GcQy0ssGkclN"
      },
      "execution_count": null,
      "outputs": []
    },
    {
      "cell_type": "code",
      "source": [
        "min"
      ],
      "metadata": {
        "colab": {
          "base_uri": "https://localhost:8080/"
        },
        "id": "cMHyfkIDnR9j",
        "outputId": "b2fbc30e-f251-40e7-b0db-33bb5cd88f2d"
      },
      "execution_count": null,
      "outputs": [
        {
          "output_type": "execute_result",
          "data": {
            "text/plain": [
              "array([  1,  -6, -12])"
            ]
          },
          "metadata": {},
          "execution_count": 49
        }
      ]
    },
    {
      "cell_type": "code",
      "source": [
        "max = np.max(matrix,axis=1)"
      ],
      "metadata": {
        "id": "P_xq0usAnVL0"
      },
      "execution_count": null,
      "outputs": []
    },
    {
      "cell_type": "code",
      "source": [
        "max"
      ],
      "metadata": {
        "colab": {
          "base_uri": "https://localhost:8080/"
        },
        "id": "W_xRTLounbhz",
        "outputId": "1113dc33-d338-40fb-b2c5-426004f1e776"
      },
      "execution_count": null,
      "outputs": [
        {
          "output_type": "execute_result",
          "data": {
            "text/plain": [
              "array([ 4,  8, 11])"
            ]
          },
          "metadata": {},
          "execution_count": 51
        }
      ]
    },
    {
      "cell_type": "code",
      "source": [
        "# appending a row in array\n",
        "matt = [1,2,3,5]\n",
        "new_mat = np.insert(matrix,matrix.shape[0],matt,axis=0)"
      ],
      "metadata": {
        "id": "jSR_govjncZE"
      },
      "execution_count": null,
      "outputs": []
    },
    {
      "cell_type": "code",
      "source": [
        "new_mat"
      ],
      "metadata": {
        "colab": {
          "base_uri": "https://localhost:8080/"
        },
        "id": "x1uMRv67ouqd",
        "outputId": "6ad9fa41-8b5c-45fd-ed84-b23dfff82358"
      },
      "execution_count": null,
      "outputs": [
        {
          "output_type": "execute_result",
          "data": {
            "text/plain": [
              "array([[  1,   2,   3,   4],\n",
              "       [  5,  -6,   7,   8],\n",
              "       [ -9,  10,  11, -12],\n",
              "       [  1,   2,   3,   5]])"
            ]
          },
          "metadata": {},
          "execution_count": 53
        }
      ]
    },
    {
      "cell_type": "code",
      "source": [
        "#appending a column in array\n",
        "mom = [9,0,8]\n",
        "new_mat_col = np.column_stack((matrix,mom))"
      ],
      "metadata": {
        "id": "A8HRrx3opDg0"
      },
      "execution_count": null,
      "outputs": []
    },
    {
      "cell_type": "code",
      "source": [
        "new_mat_col"
      ],
      "metadata": {
        "colab": {
          "base_uri": "https://localhost:8080/"
        },
        "id": "jcpaH--VpsBi",
        "outputId": "c579c57a-4057-4aa9-bef0-8df7ec447ea1"
      },
      "execution_count": null,
      "outputs": [
        {
          "output_type": "execute_result",
          "data": {
            "text/plain": [
              "array([[  1,   2,   3,   4,   9],\n",
              "       [  5,  -6,   7,   8,   0],\n",
              "       [ -9,  10,  11, -12,   8]])"
            ]
          },
          "metadata": {},
          "execution_count": 59
        }
      ]
    },
    {
      "cell_type": "code",
      "source": [],
      "metadata": {
        "id": "EpmeJ5x8pzpz"
      },
      "execution_count": null,
      "outputs": []
    }
  ]
}