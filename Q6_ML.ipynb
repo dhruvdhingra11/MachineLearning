{
  "nbformat": 4,
  "nbformat_minor": 0,
  "metadata": {
    "colab": {
      "provenance": []
    },
    "kernelspec": {
      "name": "python3",
      "display_name": "Python 3"
    },
    "language_info": {
      "name": "python"
    }
  },
  "cells": [
    {
      "cell_type": "markdown",
      "source": [
        "Perform basic operations on matrices (like addition, subtraction, multiplication) and display\n",
        "specific rows or columns of the matrix."
      ],
      "metadata": {
        "id": "vVoBJbOzbsb_"
      }
    },
    {
      "cell_type": "code",
      "execution_count": null,
      "metadata": {
        "id": "444Z0wINaCRt"
      },
      "outputs": [],
      "source": [
        "import numpy as np"
      ]
    },
    {
      "cell_type": "code",
      "source": [
        "mat1 = np.array([1,2,3,4,5,6])\n",
        "mat2 = np.array([10,20,30,40,50,60])"
      ],
      "metadata": {
        "id": "61M07lVHaSsl"
      },
      "execution_count": null,
      "outputs": []
    },
    {
      "cell_type": "code",
      "source": [
        "#sum the matrix\n",
        "summed = mat1+mat2"
      ],
      "metadata": {
        "id": "vAK4y1pmajTy"
      },
      "execution_count": null,
      "outputs": []
    },
    {
      "cell_type": "code",
      "source": [
        "summed"
      ],
      "metadata": {
        "colab": {
          "base_uri": "https://localhost:8080/"
        },
        "id": "jQabpMpKanov",
        "outputId": "feac51cc-b923-4b1f-c832-7d2cdc0ede51"
      },
      "execution_count": null,
      "outputs": [
        {
          "output_type": "execute_result",
          "data": {
            "text/plain": [
              "array([11, 22, 33, 44, 55, 66])"
            ]
          },
          "metadata": {},
          "execution_count": 9
        }
      ]
    },
    {
      "cell_type": "code",
      "source": [
        "#subtract the matrix\n",
        "sub = mat2-mat1"
      ],
      "metadata": {
        "id": "vCmdNfQ6cFfL"
      },
      "execution_count": null,
      "outputs": []
    },
    {
      "cell_type": "code",
      "source": [
        "sub"
      ],
      "metadata": {
        "colab": {
          "base_uri": "https://localhost:8080/"
        },
        "id": "Ox2uH2cJcQlk",
        "outputId": "b504367e-cf4f-4763-b88b-11dadd9f4a0c"
      },
      "execution_count": null,
      "outputs": [
        {
          "output_type": "execute_result",
          "data": {
            "text/plain": [
              "array([ 9, 18, 27, 36, 45, 54])"
            ]
          },
          "metadata": {},
          "execution_count": 14
        }
      ]
    },
    {
      "cell_type": "code",
      "source": [
        "#multiplying the matrix\n",
        "multi = mat1*mat2"
      ],
      "metadata": {
        "id": "ie9iaxErcU7V"
      },
      "execution_count": null,
      "outputs": []
    },
    {
      "cell_type": "code",
      "source": [
        "multi"
      ],
      "metadata": {
        "colab": {
          "base_uri": "https://localhost:8080/"
        },
        "id": "pQOMOPmLd3MG",
        "outputId": "2929aa12-e105-45f2-f5e0-576b4132fce1"
      },
      "execution_count": null,
      "outputs": [
        {
          "output_type": "execute_result",
          "data": {
            "text/plain": [
              "array([ 10,  40,  90, 160, 250, 360])"
            ]
          },
          "metadata": {},
          "execution_count": 16
        }
      ]
    },
    {
      "cell_type": "code",
      "source": [],
      "metadata": {
        "id": "JFQcgnMld8x4"
      },
      "execution_count": null,
      "outputs": []
    }
  ]
}