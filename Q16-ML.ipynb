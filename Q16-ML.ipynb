from numpy import *
import pandas as pd
from sklearn.neural_network import MLPClassifier
from sklearn.model_selection import train_test_split

import io
df=pd.read_csv('diabetes.csv')

target_column=['Outcome']
predictors=list(set(list(df.columns))-set(target_column))
df[predictors]=df[predictors]/df[predictors].max()

X=df[predictors].values
y=df[target_column].values

X_train, X_test, y_train, y_test = train_test_split(X, y, test_size=0.3, random_state=40)

mlp=MLPClassifier(hidden_layer_sizes=(8,8), activation='relu', solver='sgd',max_iter=500)

mlp.fit(X_train, y_train)
predict_train=mlp.predict(X_train)
predict_test=mlp.predict(X_test)

from sklearn.metrics import classification_report, confusion_matrix

print('Train Data')
print(confusion_matrix(y_train, predict_train))
print(classification_report(y_train, predict_train))

print('Test')
print(confusion_matrix(y_test, predict_test))
print(classification_report(y_test, predict_test))
